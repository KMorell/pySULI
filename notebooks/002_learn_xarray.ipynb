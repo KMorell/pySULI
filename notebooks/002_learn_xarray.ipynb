{
 "cells": [
  {
   "cell_type": "markdown",
   "id": "0",
   "metadata": {
    "id": "bi9MSvkXDg7Q"
   },
   "source": [
    "The purpose of this notebook is to show how to **read and process** some research data using xarray library.\n",
    "\n",
    "See xarray documentation here: (https://docs.xarray.dev/en/stable/index.html)\n"
   ]
  },
  {
   "cell_type": "markdown",
   "id": "1",
   "metadata": {
    "id": "75cfeab9"
   },
   "source": [
    "# general imports"
   ]
  },
  {
   "cell_type": "code",
   "execution_count": null,
   "id": "2",
   "metadata": {
    "executionInfo": {
     "elapsed": 1216,
     "status": "ok",
     "timestamp": 1718050036174,
     "user": {
      "displayName": "Mehmet Topsakal",
      "userId": "14121008150269864151"
     },
     "user_tz": 240
    },
    "id": "bca5c513"
   },
   "outputs": [],
   "source": [
    "# We need to import some Python libraries here first.\n",
    "\n",
    "import os\n",
    "import sys\n",
    "import shutil\n",
    "import scipy\n",
    "\n",
    "import numpy as np\n",
    "import xarray as xr\n",
    "\n",
    "import PIL # python image library for reading tiff files"
   ]
  },
  {
   "cell_type": "code",
   "execution_count": null,
   "id": "3",
   "metadata": {
    "executionInfo": {
     "elapsed": 5,
     "status": "ok",
     "timestamp": 1718050037995,
     "user": {
      "displayName": "Mehmet Topsakal",
      "userId": "14121008150269864151"
     },
     "user_tz": 240
    },
    "id": "acaf6259"
   },
   "outputs": [],
   "source": [
    "# It would be good to have interactive plots if ipympl is installed.\n",
    "# See: https://matplotlib.org/ipympl/\n",
    "\n",
    "try:\n",
    "    %matplotlib inline\n",
    "except:\n",
    "    %matplotlib widget\n",
    "\n",
    "# importing matplotlib for plots.\n",
    "import matplotlib.pyplot as plt\n",
    "plt.rcParams.update({'figure.max_open_warning': 0})\n",
    "plt.rcParams['figure.constrained_layout.use'] = True"
   ]
  },
  {
   "cell_type": "markdown",
   "id": "4",
   "metadata": {
    "id": "7709ba29-839e-4ba2-9514-4e0ef83e62bc"
   },
   "source": [
    "# setting up the example data path"
   ]
  },
  {
   "cell_type": "code",
   "execution_count": null,
   "id": "5",
   "metadata": {
    "colab": {
     "base_uri": "https://localhost:8080/"
    },
    "executionInfo": {
     "elapsed": 23998,
     "status": "ok",
     "timestamp": 1718050063936,
     "user": {
      "displayName": "Mehmet Topsakal",
      "userId": "14121008150269864151"
     },
     "user_tz": 240
    },
    "id": "Labo_YvYS1YP",
    "outputId": "b82e5ab6-beca-424c-9b44-da01ada4b47e"
   },
   "outputs": [],
   "source": [
    "# We assume this notebook and its data is on Google Drive so that we can use Google Colab.\n",
    "# Otherwise, replace example_data_path with the path the notebook and its data folder are stored on\n",
    "\n",
    "try:\n",
    "    from google.colab import drive\n",
    "    drive.mount('/content/drive')\n",
    "    os.chdir('/content/drive/MyDrive/RTE-24-4876/code/pySULI-main/notebooks')\n",
    "except:\n",
    "    pass"
   ]
  },
  {
   "cell_type": "code",
   "execution_count": null,
   "id": "6",
   "metadata": {
    "colab": {
     "base_uri": "https://localhost:8080/"
    },
    "executionInfo": {
     "elapsed": 801,
     "status": "ok",
     "timestamp": 1718050068827,
     "user": {
      "displayName": "Mehmet Topsakal",
      "userId": "14121008150269864151"
     },
     "user_tz": 240
    },
    "id": "d97c6437",
    "outputId": "e985af6f-0cad-4651-bc9f-b97e7788e29e"
   },
   "outputs": [],
   "source": [
    "# Assuming notebook and data folder are here.\n",
    "\n",
    "here = os.getcwd()\n",
    "example_data_path = 'example_data/file_types/image/'\n",
    "\n",
    "os.chdir('%s/%s'%(here,example_data_path))\n",
    "os.listdir()"
   ]
  },
  {
   "cell_type": "markdown",
   "id": "78bcafa5-14ef-4db0-8a0d-3cc36ca2e7b0",
   "metadata": {},
   "source": [
    "# reading a tiff image file as a numpy array and plotting without using xarray"
   ]
  },
  {
   "cell_type": "code",
   "execution_count": null,
   "id": "58219dde-64c5-40ff-a282-17b35f11cb55",
   "metadata": {},
   "outputs": [],
   "source": [
    "# first we need to read image as numpy array\n",
    "img = np.array(PIL.Image.open('NIST-LaB6.tiff'))\n",
    "\n",
    "# then plot using imshow\n",
    "fig = plt.figure()\n",
    "ax = fig.add_subplot(1,1,1)\n",
    "ax.imshow(img)\n",
    "ax.set_aspect('equal')"
   ]
  },
  {
   "cell_type": "markdown",
   "id": "7",
   "metadata": {
    "id": "6def1ec3"
   },
   "source": [
    "This is an inefficient method for plotting; we will see how to do it with xarray instead.\n",
    "# reading a tiff image file as xarray dataarray and plotting with xarray."
   ]
  },
  {
   "cell_type": "markdown",
   "id": "40c83317-f110-4da7-9105-65029319474f",
   "metadata": {},
   "source": [
    "The general approach towards plotting using xarray is to treat the image as a 2d array; later, it will allow us to manipulate the image in a straightforward way."
   ]
  },
  {
   "cell_type": "code",
   "execution_count": null,
   "id": "5d5ffd1d-de29-49e4-b4b3-f37545a8bfc9",
   "metadata": {},
   "outputs": [],
   "source": [
    "# first we need to read image as numpy array\n",
    "img = np.array(PIL.Image.open('NIST-LaB6.tiff'))\n",
    "\n",
    "\n",
    "# then we create an xarray DataArray object\n",
    "da = xr.DataArray(data=img,\n",
    "                  coords=[np.arange(img.shape[0]),np.arange(img.shape[1])],\n",
    "                  dims=['pixel_y', 'pixel_x'])\n",
    "\n",
    "fig = plt.figure()\n",
    "ax = fig.add_subplot(1,1,1)\n",
    "da.plot.imshow(ax=ax) # this line does the plotting for us and adds colorbar and figure axis labels.\n",
    "ax.set_aspect('equal')"
   ]
  },
  {
   "cell_type": "markdown",
   "id": "9a358931-753f-41e0-9a8a-d6cf04377c45",
   "metadata": {},
   "source": [
    "The coloring scale `robust` is a great visual aide for examining 2d intensity plots. To utilize it, in the `imshow()` method set `robust=True` as shown below."
   ]
  },
  {
   "cell_type": "code",
   "execution_count": null,
   "id": "38b3ac59-40a8-4bc2-a4ef-7df709c1f4e6",
   "metadata": {},
   "outputs": [],
   "source": [
    "fig = plt.figure()\n",
    "ax = fig.add_subplot(1,1,1)\n",
    "da.plot.imshow(ax=ax,robust=True)\n",
    "ax.set_aspect('equal')"
   ]
  },
  {
   "cell_type": "markdown",
   "id": "208c1f67-2a1f-4afd-b127-25de92b38b4c",
   "metadata": {},
   "source": [
    "Change the colormap with the parameter `cmap`. `vmin` and `vmax` define the range of the colormap (which you can see in the bar on the right side of the plot)."
   ]
  },
  {
   "cell_type": "code",
   "execution_count": null,
   "id": "d0785b27-308f-454d-831d-ee7ccb1c09c6",
   "metadata": {},
   "outputs": [],
   "source": [
    "fig = plt.figure()\n",
    "ax = fig.add_subplot(1,1,1)\n",
    "da.plot.imshow(ax=ax,robust=True,cmap = 'Greys', vmin=0, vmax=70)\n",
    "ax.set_aspect('equal')"
   ]
  },
  {
   "cell_type": "markdown",
   "id": "798d25f1-56e5-49c1-bac0-03d9928227bc",
   "metadata": {},
   "source": [
    "See below why we use xarray instead of matplotlib for making these kinds of plots:"
   ]
  },
  {
   "cell_type": "code",
   "execution_count": null,
   "id": "4588c66c-5494-49ec-9c75-d2f15c4011bb",
   "metadata": {},
   "outputs": [],
   "source": [
    "# in order to get above plot, we need to add some manual stuff\n",
    "\n",
    "fig = plt.figure()\n",
    "ax = fig.add_subplot(1,1,1)\n",
    "im = ax.imshow(img,vmin=0,vmax=70,cmap='Greys') # we learned 70 here from xarray plot\n",
    "\n",
    "# --- xarray plotting does these for us automatically \n",
    "cb = fig.colorbar(im) \n",
    "ax.set_xlabel('pixel_x')\n",
    "ax.set_ylabel('pixel_y')\n",
    "# ---------------------------------------------------\n",
    "\n",
    "ax.set_aspect('equal')"
   ]
  },
  {
   "cell_type": "markdown",
   "id": "cf50c5e9-7771-4ba0-8c26-9ce21645f1ae",
   "metadata": {},
   "source": [
    ">NOTE: There are some detector defects on the image.\n",
    "For example, there are defective horizontal lines on pixel_x = 102 & pixel_y = 465 in the xarray plot above.\n",
    "Unfortunately these lines are invisible in the plot."
   ]
  },
  {
   "cell_type": "markdown",
   "id": "cc7f5d8d-883a-411b-8c02-13ea62491143",
   "metadata": {},
   "source": [
    "Adding x,y labels or a fancy colorbar are not the only advantages of xarray. Xarrat has plenty of\n",
    "robust functionality that is not as straightforward with standard numpy and matplotlib functions.\n",
    "The following examples show some of those functionalities."
   ]
  },
  {
   "cell_type": "markdown",
   "id": "c102156d-b749-4f47-8f8b-ac8079f675fe",
   "metadata": {},
   "source": [
    "# more examples with xarray"
   ]
  },
  {
   "cell_type": "markdown",
   "id": "08804ac3-99da-4b44-a12e-9b41371a1d8e",
   "metadata": {},
   "source": [
    "Here is where the treatment of the images as arrays allows us some cool functionality:"
   ]
  },
  {
   "cell_type": "code",
   "execution_count": null,
   "id": "cfbb473f-df8f-4924-8688-032fe0d1470d",
   "metadata": {},
   "outputs": [],
   "source": [
    "# The features around pixel_x=1910, pixel_y=980 are coming from beam stop.\n",
    "# We can easily zoom in those areas in a second plot\n",
    "\n",
    "fig = plt.figure(figsize=(10,4))\n",
    "\n",
    "ax = fig.add_subplot(1,2,1)\n",
    "da.plot.imshow(ax=ax,robust=True,cmap = 'Greys', vmin=0, vmax=70)\n",
    "ax.set_aspect('equal')\n",
    "ax.set_title('whole image')\n",
    "\n",
    "\n",
    "ax = fig.add_subplot(1,2,2)\n",
    "da_sel = da.sel(pixel_x=slice(1750,2000)).sel(pixel_y=slice(850,1100))\n",
    "da_sel.plot.imshow(ax=ax,robust=True,cmap = 'Greys', vmin=0, vmax=70)\n",
    "ax.set_aspect('equal')\n",
    "ax.set_title('around beam stop');"
   ]
  },
  {
   "cell_type": "code",
   "execution_count": null,
   "id": "84c571ff-d5c8-42af-aa1f-d9dbac12bf70",
   "metadata": {},
   "outputs": [],
   "source": [
    "# Same as above for detector artifacts\n",
    "\n",
    "fig = plt.figure(figsize=(8,5))\n",
    "\n",
    "\n",
    "ax = fig.add_subplot(1,1,1)\n",
    "da_sel = da.sel(pixel_x=slice(200,400)).sel(pixel_y=slice(450,600))\n",
    "da_sel.plot.imshow(ax=ax,robust=True,cmap = 'Greys')\n",
    "ax.set_aspect('equal')\n",
    "ax.set_title('showing detector bad pixels');"
   ]
  },
  {
   "cell_type": "code",
   "execution_count": null,
   "id": "6f5e5ede-9b1e-4776-9f41-6ad7d2943361",
   "metadata": {},
   "outputs": [],
   "source": [
    "# here we further zoom into defects and get line profile\n",
    "\n",
    "fig = plt.figure(figsize=(12,5))\n",
    "\n",
    "\n",
    "ax = fig.add_subplot(1,2,1)\n",
    "da_sel = da.sel(pixel_x=slice(347-25,347+25)).sel(pixel_y=slice(552-25,552+25))\n",
    "da_sel.plot.imshow(ax=ax,robust=True,cmap = 'Greys')\n",
    "ax.axvline(x=347,color='r')\n",
    "ax.set_aspect('equal')\n",
    "ax.set_title('more zoom around bad pixels')\n",
    "\n",
    "ax = fig.add_subplot(1,2,2)\n",
    "da_sel.sel(pixel_x=347,method='nearest').plot()\n",
    "ax.set_title('intensity profile along red line on the left\\n(see intensity drop along the detector defect)');\n"
   ]
  },
  {
   "cell_type": "markdown",
   "id": "85ae2910-5a75-4323-a820-4d9ae9b23fb6",
   "metadata": {},
   "source": [
    "> Notice that we are \"slicing\" the arrays in ways which allow us to zoom in on specific parts of the images."
   ]
  },
  {
   "cell_type": "markdown",
   "id": "9089ca4c-771e-43d1-bbdd-cfcc9c14eef0",
   "metadata": {},
   "source": [
    "Now, let's look into extracting an intensity profile from this Debye Scherre ring. There are other tools (which we will get to later) that do this for you, but here we can see the functionality of xarray."
   ]
  },
  {
   "cell_type": "code",
   "execution_count": null,
   "id": "27947f4c-a9f0-4743-9201-15796a873202",
   "metadata": {},
   "outputs": [],
   "source": [
    "# This is similar way of selecting and averaging profile\n",
    "\n",
    "fig = plt.figure(figsize=(10,10))\n",
    "\n",
    "ax = fig.add_subplot(2,3,2)\n",
    "da.plot.imshow(ax=ax,robust=True,cmap = 'Greys', vmin=0, vmax=70,add_colorbar=False)\n",
    "ax.axhline(y=983,color='r',alpha=0.5)\n",
    "ax.axvline(x=1900,color='b',alpha=0.5)\n",
    "ax.set_aspect('equal')\n",
    "ax.set_title('whole image')\n",
    "\n",
    "\n",
    "ax = fig.add_subplot(2,2,3)\n",
    "da_sel = da.sel(pixel_y=slice(983-5,983+5)).mean(dim='pixel_y') # here we first select and then average\n",
    "da_sel.plot(ax=ax,color='r')\n",
    "ax.set_title('intensity profile along red line above\\n(+/-5 pixel averaged)')\n",
    "ax.set_xlim([0,2048])\n",
    "\n",
    "ax = fig.add_subplot(2,2,4)\n",
    "da_sel = da.sel(pixel_x=slice(1900-5,1900+5)).mean(dim='pixel_x') # here we first select and then average\n",
    "da_sel.plot(ax=ax,color='b')\n",
    "ax.set_title('intensity profile along blue line above\\n(+/-5 pixel averaged)')\n",
    "ax.set_xlim([0,2048]);"
   ]
  },
  {
   "cell_type": "markdown",
   "id": "a5775eed-11c8-4d29-bddc-716f939fc36b",
   "metadata": {},
   "source": [
    "We can even get an intensity profile along an arbitrary line."
   ]
  },
  {
   "cell_type": "code",
   "execution_count": null,
   "id": "e0666bfc-fa47-41c4-a370-8059dda44791",
   "metadata": {},
   "outputs": [],
   "source": [
    "# this is more advanced way of getting line profile along yellow line below\n",
    "\n",
    "fig = plt.figure(figsize=(10,5))\n",
    "\n",
    "ax = fig.add_subplot(1,2,1)\n",
    "da.plot.imshow(ax=ax,robust=True,cmap = 'Greys', vmin=0, vmax=70,add_colorbar=False)\n",
    "\n",
    "# poi\n",
    "p1 = (1900,983) # the center of the pattern\n",
    "p2 = (10,2000)\n",
    "# arrow\n",
    "ax.arrow(p1[0],p1[1],p2[0]-p1[0],p2[1]-p1[1],width=20,color=\"y\",length_includes_head=True)\n",
    "\n",
    "ax.set_aspect('equal')\n",
    "ax.set_title('whole image')\n",
    "\n",
    "\n",
    "\n",
    "ax = fig.add_subplot(1,2,2)\n",
    "\n",
    "from skimage.draw import line\n",
    "# tuple storing x and y arrays representing corresponding x and y coordinates of our line\n",
    "pline = line(p1[0],p1[1],p2[0],p2[1])\n",
    "# creation of x_array from x coords of our line tuple\n",
    "x = xr.DataArray(pline[0], dims=\"z\")\n",
    "# creation of x_array from y coords of our line tuple\n",
    "y = xr.DataArray(pline[1], dims=\"z\")\n",
    "da_sel = da.interp(pixel_x=x,pixel_y=y)\n",
    "da_sel.plot(ax=ax, color='b')\n",
    "\n",
    "ax.set_title('intensity profile along yellow line');"
   ]
  },
  {
   "cell_type": "code",
   "execution_count": null,
   "id": "5a24a341-9f71-4757-9eaf-87896454a1af",
   "metadata": {},
   "outputs": [],
   "source": [
    "# We can also achieve this without using skimage, instead just\n",
    "# using linear spaced lists to approximate the line. The skimage\n",
    "# line isn't as \"jagged\" but it doesn't make much of a difference\n",
    "\n",
    "fig = plt.figure(figsize=(10,5))\n",
    "\n",
    "ax = fig.add_subplot(1,2,1)\n",
    "da.plot.imshow(ax=ax,robust=True,cmap = 'Greys', vmin=0, vmax=70,add_colorbar=False)\n",
    "\n",
    "# poi\n",
    "p1 = (1900,983) # the center of the pattern\n",
    "p2 = (10,2000)\n",
    "# arrow\n",
    "ax.arrow(p1[0],p1[1],p2[0]-p1[0],p2[1]-p1[1],width=20,color=\"y\",length_includes_head=True)\n",
    "ax.set_aspect('equal')\n",
    "ax.set_title('whole image')\n",
    "\n",
    "\n",
    "\n",
    "\n",
    "ax = fig.add_subplot(1,2,2)\n",
    "da_int = da.interp(pixel_x=xr.DataArray(np.linspace(p1[0],p2[0],1000)),\n",
    "                   pixel_y=xr.DataArray(np.linspace(p1[1],p2[1],1000)))\n",
    "da_int.plot(ax=ax, color='y')\n",
    "\n",
    "ax.set_title('intensity profile along yellow line');"
   ]
  },
  {
   "cell_type": "markdown",
   "id": "e1209c58-9eaf-4fa8-b0be-0cbe41208f73",
   "metadata": {},
   "source": [
    "Here is a simple azimuthal integrator written by <https://github.com/pmeshkov> & <https://github.com/KMorell>! Again, soon we will see tools for doing this efficiently, and with less \"eyeballing\"."
   ]
  },
  {
   "cell_type": "code",
   "execution_count": null,
   "id": "b8d98741-44ac-478d-971f-9374e9284248",
   "metadata": {},
   "outputs": [],
   "source": [
    "# adjustment of previously used center to get real center\n",
    "# as well as fixed radii for blue rings\n",
    "actual_center = np.add(p1,(17,-3))\n",
    "radius = 315\n",
    "tolerance = 10\n",
    "radius1 = 200#radius-tolerance\n",
    "radius2 = 1800#radius+tolerance\n",
    "\n",
    "\n",
    "from skimage.draw import circle_perimeter\n",
    "\n",
    "# finding every point in the sliver of the circle\n",
    "\n",
    "circle = 0\n",
    "data_values = da.values\n",
    "sum_list = []\n",
    "average_intensity = []\n",
    "\n",
    "for i in np.arange(radius1, radius2):\n",
    "    circle = circle_perimeter(actual_center[0],actual_center[1],i)\n",
    "    for j in np.arange(0,len(circle[0])):\n",
    "        try:\n",
    "            sum_list = np.append(sum_list,data_values[circle[1][j]][circle[0][j]])\n",
    "        except:\n",
    "            continue\n",
    "    average_intensity = np.append(average_intensity,np.average(sum_list))\n",
    "    sum_list = []\n",
    "print(\"complete\")"
   ]
  },
  {
   "cell_type": "code",
   "execution_count": null,
   "id": "be9c2b0c-844e-45f4-9c58-bf6bb09ab36f",
   "metadata": {},
   "outputs": [],
   "source": [
    "fig = plt.figure(figsize=(10,5))\n",
    "# plot whole image\n",
    "ax = fig.add_subplot(1,2,1)\n",
    "da.plot.imshow(ax=ax,robust=True,cmap = 'Greys', vmin=0, vmax=70,add_colorbar=False)\n",
    "ax.set_title('whole image')\n",
    "\n",
    "circle1 = plt.Circle(actual_center, radius1, color='b', fill=False)\n",
    "circle2 = plt.Circle(actual_center, radius2, color='b', fill=False)\n",
    "ax.add_patch(circle1)\n",
    "ax.add_patch(circle2)\n",
    "\n",
    "intensity_xarray = xr.DataArray(average_intensity)\n",
    "\n",
    "ax = fig.add_subplot(1,2,2)\n",
    "intensity_xarray.plot(color='purple')\n",
    "ax.set_xlabel(\"Radius from center\")\n",
    "ax.set_ylabel(\"Intensity\")\n",
    "ax.set_yscale('log')\n",
    "\n",
    "ax.set_title('Average intensity around theta vs Radius');"
   ]
  }
 ],
 "metadata": {
  "colab": {
   "provenance": []
  },
  "kernelspec": {
   "display_name": "Python 3 (ipykernel)",
   "language": "python",
   "name": "python3"
  },
  "language_info": {
   "codemirror_mode": {
    "name": "ipython",
    "version": 3
   },
   "file_extension": ".py",
   "mimetype": "text/x-python",
   "name": "python",
   "nbconvert_exporter": "python",
   "pygments_lexer": "ipython3",
   "version": "3.11.7"
  }
 },
 "nbformat": 4,
 "nbformat_minor": 5
}
