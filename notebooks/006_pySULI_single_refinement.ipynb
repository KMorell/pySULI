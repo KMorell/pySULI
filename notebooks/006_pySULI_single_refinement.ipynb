{
 "cells": [
  {
   "cell_type": "markdown",
   "id": "0",
   "metadata": {
    "id": "0"
   },
   "source": [
    "The purpose of this notebook is to demonstrate how to do a single refinement with the pySULI library modules.\n",
    "\n"
   ]
  },
  {
   "cell_type": "markdown",
   "id": "1",
   "metadata": {
    "id": "1"
   },
   "source": [
    "# General imports"
   ]
  },
  {
   "cell_type": "code",
   "execution_count": 1,
   "id": "2",
   "metadata": {
    "executionInfo": {
     "elapsed": 1163,
     "status": "ok",
     "timestamp": 1720025363062,
     "user": {
      "displayName": "Mehmet Topsakal",
      "userId": "14121008150269864151"
     },
     "user_tz": 240
    },
    "id": "2"
   },
   "outputs": [],
   "source": [
    "# We need to import some Python libraries here first.\n",
    "\n",
    "import os\n",
    "import sys\n",
    "import shutil\n",
    "import scipy\n",
    "import time\n",
    "import glob\n",
    "\n",
    "import numpy as np\n",
    "import xarray as xr\n",
    "\n",
    "\n",
    "from IPython.display import clear_output"
   ]
  },
  {
   "cell_type": "code",
   "execution_count": 2,
   "id": "0OzrLHtu0iIL",
   "metadata": {
    "executionInfo": {
     "elapsed": 5,
     "status": "ok",
     "timestamp": 1720025363063,
     "user": {
      "displayName": "Mehmet Topsakal",
      "userId": "14121008150269864151"
     },
     "user_tz": 240
    },
    "id": "0OzrLHtu0iIL"
   },
   "outputs": [],
   "source": [
    "# We need import pyFAI,PyQt5,ipympl packages (if not available pip-install)\n",
    "\n",
    "\n",
    "try:\n",
    "    import ipympl\n",
    "except:\n",
    "    !! pip install ipympl\n",
    "\n",
    "# if running on google colab\n",
    "try:\n",
    "    from google.colab import output\n",
    "    output.enable_custom_widget_manager()\n",
    "except:\n",
    "    pass"
   ]
  },
  {
   "cell_type": "code",
   "execution_count": 3,
   "id": "3",
   "metadata": {
    "executionInfo": {
     "elapsed": 180,
     "status": "ok",
     "timestamp": 1720025363871,
     "user": {
      "displayName": "Mehmet Topsakal",
      "userId": "14121008150269864151"
     },
     "user_tz": 240
    },
    "id": "3"
   },
   "outputs": [],
   "source": [
    "try:\n",
    "    %matplotlib widget\n",
    "except:\n",
    "    %matplotlib inline\n",
    "\n",
    "# importing matplotlib for plots.\n",
    "import matplotlib.pyplot as plt\n",
    "plt.rcParams.update({'figure.max_open_warning': 0})\n",
    "plt.rcParams['figure.constrained_layout.use'] = True"
   ]
  },
  {
   "cell_type": "markdown",
   "id": "4",
   "metadata": {
    "id": "4"
   },
   "source": [
    "# Setting up the example data path"
   ]
  },
  {
   "cell_type": "code",
   "execution_count": 4,
   "id": "5",
   "metadata": {
    "colab": {
     "base_uri": "https://localhost:8080/"
    },
    "executionInfo": {
     "elapsed": 18673,
     "status": "ok",
     "timestamp": 1720025262112,
     "user": {
      "displayName": "Mehmet Topsakal",
      "userId": "14121008150269864151"
     },
     "user_tz": 240
    },
    "id": "5",
    "outputId": "92198f12-1983-4f1f-b701-52126d6d2fe4"
   },
   "outputs": [],
   "source": [
    "# We assume this notebook and its data is on Google Drive so that we can use Google Colab.\n",
    "# Otherwise, replace example_data_path with the path the notebook and its data folder are stored on\n",
    "\n",
    "try:\n",
    "    from google.colab import drive\n",
    "    drive.mount('/content/drive')\n",
    "    os.chdir('/content/drive/MyDrive/SULI-2024/repositories/pySULI/notebooks/')\n",
    "    from google.colab import output\n",
    "    output.enable_custom_widget_manager()\n",
    "\n",
    "except:\n",
    "    pass"
   ]
  },
  {
   "cell_type": "code",
   "execution_count": 5,
   "id": "6",
   "metadata": {
    "colab": {
     "base_uri": "https://localhost:8080/"
    },
    "executionInfo": {
     "elapsed": 645,
     "status": "ok",
     "timestamp": 1720025264607,
     "user": {
      "displayName": "Mehmet Topsakal",
      "userId": "14121008150269864151"
     },
     "user_tz": 240
    },
    "id": "6",
    "outputId": "8a28ad6a-0c29-4698-e0bf-03dd4da855c6"
   },
   "outputs": [
    {
     "data": {
      "text/plain": [
       "['gsas.instprm',\n",
       " 'Ceo2.cif',\n",
       " 'gsas2_scratch',\n",
       " 'Pt.cif',\n",
       " 'Zr.cif',\n",
       " 'Pt.gpx',\n",
       " 'LaB6.nc',\n",
       " 'LaB6.cif',\n",
       " 'ZrH.nc',\n",
       " 'Zr-H1.66.cif',\n",
       " 'Background.nc',\n",
       " 'ZrH.gpx',\n",
       " 'Pt.nc',\n",
       " 'LaB6.gpx']"
      ]
     },
     "execution_count": 5,
     "metadata": {},
     "output_type": "execute_result"
    }
   ],
   "source": [
    "# Assuming notebook and data folder are here.\n",
    "\n",
    "here = os.getcwd()\n",
    "example_data_path = 'example_data/xrd_refinement_with_gsas2/'\n",
    "\n",
    "os.chdir('%s/%s'%(here,example_data_path))\n",
    "os.listdir()"
   ]
  },
  {
   "cell_type": "code",
   "execution_count": 6,
   "id": "f8a034e3",
   "metadata": {
    "colab": {
     "base_uri": "https://localhost:8080/"
    },
    "executionInfo": {
     "elapsed": 223,
     "status": "ok",
     "timestamp": 1720025328723,
     "user": {
      "displayName": "Mehmet Topsakal",
      "userId": "14121008150269864151"
     },
     "user_tz": 240
    },
    "id": "f8a034e3",
    "outputId": "4e157fc7-1edf-4298-c400-44a6c471b003"
   },
   "outputs": [
    {
     "name": "stdout",
     "output_type": "stream",
     "text": [
      "Background.nc  LaB6.gpx       Pt.gpx         Zr.cif         gsas.instprm\n",
      "Ceo2.cif       LaB6.nc        Pt.nc          ZrH.gpx        \u001b[34mgsas2_scratch\u001b[m\u001b[m/\n",
      "LaB6.cif       Pt.cif         Zr-H1.66.cif   ZrH.nc\n"
     ]
    }
   ],
   "source": [
    "ls"
   ]
  },
  {
   "cell_type": "markdown",
   "id": "Jj9UtJmyEUzD",
   "metadata": {
    "id": "Jj9UtJmyEUzD"
   },
   "source": [
    "# Setting up GSAS-II package and custom refinement functions"
   ]
  },
  {
   "cell_type": "code",
   "execution_count": 7,
   "id": "4960b33f",
   "metadata": {
    "colab": {
     "base_uri": "https://localhost:8080/",
     "height": 211
    },
    "executionInfo": {
     "elapsed": 172,
     "status": "error",
     "timestamp": 1720025343459,
     "user": {
      "displayName": "Mehmet Topsakal",
      "userId": "14121008150269864151"
     },
     "user_tz": 240
    },
    "id": "4960b33f",
    "outputId": "a269826e-335a-49d7-a5a5-b89870b62bf8"
   },
   "outputs": [
    {
     "name": "stdout",
     "output_type": "stream",
     "text": [
      "GSAS-II binary directory: /opt/anaconda3/envs/GSASII/GSAS-II/GSASII-bin/mac_64_p3.11_n1.26\n",
      "7 values read from config file /opt/anaconda3/envs/GSASII/GSAS-II/GSASII/config.py\n",
      "GSASIIplot: wx not imported\n",
      "ImportError for wx/mpl in GSASIIctrlGUI: ignore if docs build\n"
     ]
    }
   ],
   "source": [
    "# assuming GSAS-II is installed on the machine on conda\n",
    "# as explained here: https://advancedphotonsource.github.io/GSAS-II-tutorials/install.html\n",
    "# as a result of \"conda create -n GSASII briantoby::gsas2pkg  -c conda-forge\", GSAS-II\n",
    "# will be installed on a eng location. Then we add it to path as below.\n",
    "\n",
    "import sys\n",
    "\n",
    "user = \"kmorell\"\n",
    "\n",
    "match user:\n",
    "    case \"mtopsakal\":\n",
    "        sys.path += ['/home/mt/software/miniforge3/envs/GSASII/GSAS-II/GSASII']\n",
    "    case \"pmeshkov\":\n",
    "        sys.path += ['/opt/anaconda3/envs/GSASII/GSAS-II/GSASII']\n",
    "    case \"kmorell\"\n",
    "        sys.path += ['/Users/kevinmorell/g2full/GSAS-II/GSASII']\n",
    "\n",
    "# we then import GSASIIscriptable\n",
    "import GSASIIscriptable as G2sc\n",
    "import pybaselines # this comes with gsas2_package\n",
    "\n",
    "from IPython.display import clear_output\n",
    "\n",
    "# clear_output()"
   ]
  },
  {
   "cell_type": "markdown",
   "id": "6e67742f-0d2a-49fd-bf0f-143012d7c3b4",
   "metadata": {
    "jp-MarkdownHeadingCollapsed": true
   },
   "source": [
    "## GSAS functions in pySULI\n",
    "\n",
    "All of the GSAS-II functions defined in notebook 005 are contained within the pySULI modules GSAS2_functions and functions_lib_version\n"
   ]
  },
  {
   "cell_type": "markdown",
   "id": "PAwo4woMEfom",
   "metadata": {
    "id": "PAwo4woMEfom"
   },
   "source": [
    "# Refinements"
   ]
  },
  {
   "cell_type": "code",
   "execution_count": 13,
   "id": "5eca49ad",
   "metadata": {
    "id": "5eca49ad"
   },
   "outputs": [],
   "source": [
    "os.makedirs('gsas2_scratch',exist_ok=True)"
   ]
  },
  {
   "cell_type": "code",
   "execution_count": 15,
   "id": "b45b164d",
   "metadata": {
    "id": "b45b164d"
   },
   "outputs": [],
   "source": [
    "#Defining the background\n",
    "with xr.open_dataset('Background.nc') as ds:\n",
    "    da_input_bkg = ds.i2d.mean(dim='azimuthal')"
   ]
  },
  {
   "cell_type": "code",
   "execution_count": null,
   "id": "cd55c5f1-bdd7-41c2-8cca-f2b6677b2144",
   "metadata": {},
   "outputs": [],
   "source": [
    "#Creating the refiner\n",
    "first_refiner = rf.Refiner(\n",
    "    nc_path = 'LaB6.nc',\n",
    "    phases = [{'cif_abs_path':'LaB6.cif','phase_name':'LaB6','scale':1},],\n",
    "    gsas2_scratch = None,\n",
    "    instrument_parameters_file = 'gsas2_scratch/gsas.instprm',\n",
    "    q_range = None,\n",
    "    GSASII_path = '/Users/kevinmorell/g2full/GSAS-II/GSASII',\n",
    "    da_input_bkg = None \n",
    "#NOTE: Refiner can create its own background if set to None. Try both to see changes in GoF and Rwp\n",
    ")"
   ]
  }
 ],
 "metadata": {
  "colab": {
   "provenance": []
  },
  "kernelspec": {
   "display_name": "Python 3 (ipykernel)",
   "language": "python",
   "name": "python3"
  },
  "language_info": {
   "codemirror_mode": {
    "name": "ipython",
    "version": 3
   },
   "file_extension": ".py",
   "mimetype": "text/x-python",
   "name": "python",
   "nbconvert_exporter": "python",
   "pygments_lexer": "ipython3",
   "version": "3.11.7"
  }
 },
 "nbformat": 4,
 "nbformat_minor": 5
}
