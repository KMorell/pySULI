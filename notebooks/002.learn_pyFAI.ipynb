{
 "cells": [
  {
   "cell_type": "markdown",
   "id": "0",
   "metadata": {
    "id": "bi9MSvkXDg7Q"
   },
   "source": [
    "The purpose of this notebook is to show how to **calibrate** XRD data using pyFAI library.\n",
    "\n",
    "See pyFAI tutorial here: (https://www.youtube.com/watch?v=j0cphX3z2mM&ab_channel=ESRFsynchrotron)\n",
    "See pyFAI documents here: (https://pyfai.readthedocs.io/en/stable/)\n",
    "\n",
    "At 28ID-2-D-tomo beamline endstation of NSLS-II, we mainly use two different area detectors:\n",
    "\n",
    "* PerkinElmer : https://resources.perkinelmer.com/corporate/pdfs/downloads/bro_digitalxraydetectors.pdf\n",
    "* Dexela 2923 : https://www.sciencedirect.com/science/article/pii/S0168900212006730\n",
    "\n",
    "This tutorial will demonstrate calibration with pyFAI on powder XRD data collected on LaB6 and CeO2 samples.\n"
   ]
  },
  {
   "cell_type": "markdown",
   "id": "1",
   "metadata": {
    "id": "75cfeab9"
   },
   "source": [
    "# general imports"
   ]
  },
  {
   "cell_type": "code",
   "execution_count": 1,
   "id": "2",
   "metadata": {
    "executionInfo": {
     "elapsed": 1216,
     "status": "ok",
     "timestamp": 1718050036174,
     "user": {
      "displayName": "Mehmet Topsakal",
      "userId": "14121008150269864151"
     },
     "user_tz": 240
    },
    "id": "bca5c513"
   },
   "outputs": [],
   "source": [
    "# We need to import some Python libraries here first.\n",
    "\n",
    "import os\n",
    "import sys\n",
    "import shutil\n",
    "import scipy\n",
    "\n",
    "import numpy as np\n",
    "import xarray as xr\n",
    "\n",
    "import PIL # python image library for reading tiff files\n",
    "import pyFAI"
   ]
  },
  {
   "cell_type": "code",
   "execution_count": 2,
   "id": "3",
   "metadata": {
    "executionInfo": {
     "elapsed": 5,
     "status": "ok",
     "timestamp": 1718050037995,
     "user": {
      "displayName": "Mehmet Topsakal",
      "userId": "14121008150269864151"
     },
     "user_tz": 240
    },
    "id": "acaf6259"
   },
   "outputs": [],
   "source": [
    "# It would be good to have interactive plots if ipympl is installed.\n",
    "# See: https://matplotlib.org/ipympl/\n",
    "\n",
    "%matplotlib inline\n",
    "\n",
    "# importing matplotlib for plots.\n",
    "import matplotlib.pyplot as plt\n",
    "plt.rcParams.update({'figure.max_open_warning': 0})\n",
    "plt.rcParams['figure.constrained_layout.use'] = True"
   ]
  },
  {
   "cell_type": "markdown",
   "id": "4",
   "metadata": {
    "id": "7709ba29-839e-4ba2-9514-4e0ef83e62bc"
   },
   "source": [
    "# setting up the example data path"
   ]
  },
  {
   "cell_type": "code",
   "execution_count": 3,
   "id": "5",
   "metadata": {
    "colab": {
     "base_uri": "https://localhost:8080/"
    },
    "executionInfo": {
     "elapsed": 23998,
     "status": "ok",
     "timestamp": 1718050063936,
     "user": {
      "displayName": "Mehmet Topsakal",
      "userId": "14121008150269864151"
     },
     "user_tz": 240
    },
    "id": "Labo_YvYS1YP",
    "outputId": "b82e5ab6-beca-424c-9b44-da01ada4b47e"
   },
   "outputs": [
    {
     "name": "stdout",
     "output_type": "stream",
     "text": [
      "No module named 'google'\n"
     ]
    }
   ],
   "source": [
    "# We assume this notebook and its data is on Google Drive so that we can use Google Colab.\n",
    "# Otherwise, replace XXX with the exact path where this notebook (000.read_research_data_into_python.ipynb)\n",
    "# and its data folder (000.read_research_data_into_python.data) is.\n",
    "\n",
    "try:\n",
    "    from google.colab import drive\n",
    "    drive.mount('/content/drive')\n",
    "    os.chdir('/content/drive/MyDrive/SULI-2024/repositories/pySULI/notebooks/')\n",
    "except Exception as exc:\n",
    "    print(exc)\n",
    "    os.chdir('.')"
   ]
  },
  {
   "cell_type": "code",
   "execution_count": 4,
   "id": "6",
   "metadata": {
    "colab": {
     "base_uri": "https://localhost:8080/"
    },
    "executionInfo": {
     "elapsed": 801,
     "status": "ok",
     "timestamp": 1718050068827,
     "user": {
      "displayName": "Mehmet Topsakal",
      "userId": "14121008150269864151"
     },
     "user_tz": 240
    },
    "id": "d97c6437",
    "outputId": "e985af6f-0cad-4651-bc9f-b97e7788e29e"
   },
   "outputs": [
    {
     "data": {
      "text/plain": [
       "['from_Dexela2923_detector', 'from_PerkinElmer_detector']"
      ]
     },
     "execution_count": 4,
     "metadata": {},
     "output_type": "execute_result"
    }
   ],
   "source": [
    "# Assuming 000.read_research_data_into_python.data and 000.read_research_data_into_python.ipynb are here.\n",
    "\n",
    "here = os.getcwd()\n",
    "example_data_path = '002.learn_pyFAI.data'\n",
    "\n",
    "# navigate into example_data_path directory\n",
    "os.chdir(example_data_path)\n",
    "\n",
    "os.listdir('.')"
   ]
  },
  {
   "cell_type": "code",
   "execution_count": null,
   "id": "1f0b90a4",
   "metadata": {},
   "outputs": [],
   "source": []
  }
 ],
 "metadata": {
  "colab": {
   "provenance": []
  },
  "kernelspec": {
   "display_name": "Python 3 (ipykernel)",
   "language": "python",
   "name": "python3"
  },
  "language_info": {
   "codemirror_mode": {
    "name": "ipython",
    "version": 3
   },
   "file_extension": ".py",
   "mimetype": "text/x-python",
   "name": "python",
   "nbconvert_exporter": "python",
   "pygments_lexer": "ipython3",
   "version": "3.11.9"
  }
 },
 "nbformat": 4,
 "nbformat_minor": 5
}
